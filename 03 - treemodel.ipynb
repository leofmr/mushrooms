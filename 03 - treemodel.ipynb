{
 "cells": [
  {
   "cell_type": "code",
   "execution_count": 50,
   "id": "94df034a-068e-41e2-8a3d-c9acc7a47844",
   "metadata": {},
   "outputs": [],
   "source": [
    "import pandas as pd\n",
    "import matplotlib.pyplot as plt\n",
    "import math\n",
    "import pickle\n",
    "import graphviz\n",
    "import re\n",
    "\n",
    "from sklearn.tree import DecisionTreeClassifier, export_graphviz, export_text\n",
    "from sklearn.preprocessing import OneHotEncoder\n",
    "from sklearn.impute import SimpleImputer\n",
    "from sklearn.pipeline import Pipeline\n",
    "\n",
    "from sklearn.metrics import classification_report"
   ]
  },
  {
   "cell_type": "code",
   "execution_count": 7,
   "id": "d26f534e-68e7-4ea8-8eef-2f56467da079",
   "metadata": {},
   "outputs": [],
   "source": [
    "with open(\"data/splited_data.pickle\", \"rb\") as file:\n",
    "    data = pickle.load(file)\n",
    "    X_train = data[\"X_train\"]\n",
    "    y_train = data[\"y_train\"]\n",
    "    X_test = data[\"X_test\"]\n",
    "    y_test = data[\"y_test\"]"
   ]
  },
  {
   "cell_type": "code",
   "execution_count": 8,
   "id": "1aac3666-b26c-4dd9-a39b-8c330aa54b6f",
   "metadata": {},
   "outputs": [
    {
     "data": {
      "text/plain": [
       "Pipeline(steps=[('imputation',\n",
       "                 SimpleImputer(missing_values='?', strategy='most_frequent')),\n",
       "                ('encoder', OneHotEncoder(drop='first')),\n",
       "                ('classifier', DecisionTreeClassifier(random_state=21))])"
      ]
     },
     "execution_count": 8,
     "metadata": {},
     "output_type": "execute_result"
    }
   ],
   "source": [
    "steps = [(\"imputation\", SimpleImputer(missing_values=\"?\", strategy=\"most_frequent\")),\n",
    "         (\"encoder\", OneHotEncoder(drop=\"first\")),\n",
    "         (\"classifier\", DecisionTreeClassifier(random_state=21))]\n",
    "\n",
    "pipeline = Pipeline(steps)\n",
    "pipeline.fit(X_train, y_train)"
   ]
  },
  {
   "cell_type": "code",
   "execution_count": 26,
   "id": "51204f9f-063c-47f0-a8a3-1732c462b477",
   "metadata": {},
   "outputs": [
    {
     "name": "stdout",
     "output_type": "stream",
     "text": [
      "|--- odor_n <= 0.50\n",
      "|   |--- stalk-root_c <= 0.50\n",
      "|   |   |--- stalk-surface-below-ring_y <= 0.50\n",
      "|   |   |   |--- spore-print-color_u <= 0.50\n",
      "|   |   |   |   |--- odor_l <= 0.50\n",
      "|   |   |   |   |   |--- gill-spacing_w <= 0.50\n",
      "|   |   |   |   |   |   |--- class: 0\n",
      "|   |   |   |   |   |--- gill-spacing_w >  0.50\n",
      "|   |   |   |   |   |   |--- stalk-shape_t <= 0.50\n",
      "|   |   |   |   |   |   |   |--- class: 0\n",
      "|   |   |   |   |   |   |--- stalk-shape_t >  0.50\n",
      "|   |   |   |   |   |   |   |--- class: 1\n",
      "|   |   |   |   |--- odor_l >  0.50\n",
      "|   |   |   |   |   |--- class: 1\n",
      "|   |   |   |--- spore-print-color_u >  0.50\n",
      "|   |   |   |   |--- class: 1\n",
      "|   |   |--- stalk-surface-below-ring_y >  0.50\n",
      "|   |   |   |--- class: 1\n",
      "|   |--- stalk-root_c >  0.50\n",
      "|   |   |--- ring-number_o <= 0.50\n",
      "|   |   |   |--- class: 0\n",
      "|   |   |--- ring-number_o >  0.50\n",
      "|   |   |   |--- class: 1\n",
      "|--- odor_n >  0.50\n",
      "|   |--- spore-print-color_r <= 0.50\n",
      "|   |   |--- stalk-surface-below-ring_y <= 0.50\n",
      "|   |   |   |--- cap-surface_g <= 0.50\n",
      "|   |   |   |   |--- cap-shape_c <= 0.50\n",
      "|   |   |   |   |   |--- gill-size_n <= 0.50\n",
      "|   |   |   |   |   |   |--- class: 1\n",
      "|   |   |   |   |   |--- gill-size_n >  0.50\n",
      "|   |   |   |   |   |   |--- bruises_t <= 0.50\n",
      "|   |   |   |   |   |   |   |--- class: 1\n",
      "|   |   |   |   |   |   |--- bruises_t >  0.50\n",
      "|   |   |   |   |   |   |   |--- class: 0\n",
      "|   |   |   |   |--- cap-shape_c >  0.50\n",
      "|   |   |   |   |   |--- class: 0\n",
      "|   |   |   |--- cap-surface_g >  0.50\n",
      "|   |   |   |   |--- class: 0\n",
      "|   |   |--- stalk-surface-below-ring_y >  0.50\n",
      "|   |   |   |--- stalk-color-above-ring_n <= 0.50\n",
      "|   |   |   |   |--- class: 0\n",
      "|   |   |   |--- stalk-color-above-ring_n >  0.50\n",
      "|   |   |   |   |--- class: 1\n",
      "|   |--- spore-print-color_r >  0.50\n",
      "|   |   |--- class: 0\n",
      "\n"
     ]
    }
   ],
   "source": [
    "feature_names = pipeline[1].get_feature_names_out(X_train.columns).tolist()\n",
    "print(export_text(pipeline[-1], feature_names=feature_names))"
   ]
  },
  {
   "cell_type": "code",
   "execution_count": 30,
   "id": "0240745e-9600-48ef-867e-367df455fb3c",
   "metadata": {},
   "outputs": [],
   "source": [
    "tree_txt = export_text(pipeline[-1], feature_names=feature_names)"
   ]
  },
  {
   "cell_type": "code",
   "execution_count": 74,
   "id": "118aca62-4f60-47a1-a5b2-9fb95109cc86",
   "metadata": {},
   "outputs": [],
   "source": [
    "def clean_condition(l, i):\n",
    "    prefix = \"|   \" * (i - 1) + \"|--- \"\n",
    "    condition = l.replace(prefix, \"\") \n",
    "\n",
    "    if condition.startswith(\"class: \"):\n",
    "        return condition.replace(\"class: \", \"Then \").replace(\"0\", \"poisonous\").replace(\"1\", \"edible\")\n",
    "    else:\n",
    "        is_equal = \">\" in condition\n",
    "        is_equal_str = \"equal\" if is_equal else \"not equal\"\n",
    "        feature = condition.split(\" \")[0]\n",
    "        variable, category = feature.split(\"_\")\n",
    "        cleaned_variable = variable.replace(\"-\", \" \")\n",
    "        \n",
    "        return f\"{cleaned_variable} is {is_equal_str} to {category}\""
   ]
  },
  {
   "cell_type": "code",
   "execution_count": 76,
   "id": "e6167d3e-b8b2-448e-9880-3dbe152ab27c",
   "metadata": {},
   "outputs": [
    {
     "name": "stdout",
     "output_type": "stream",
     "text": [
      "1 |--- odor_n <= 0.50\n",
      "2 |   |--- stalk-root_c <= 0.50\n",
      "3 |   |   |--- stalk-surface-below-ring_y <= 0.50\n",
      "4 |   |   |   |--- spore-print-color_u <= 0.50\n",
      "5 |   |   |   |   |--- odor_l <= 0.50\n",
      "6 |   |   |   |   |   |--- gill-spacing_w <= 0.50\n",
      "7 |   |   |   |   |   |   |--- class: 0\n",
      "6 |   |   |   |   |   |--- gill-spacing_w >  0.50\n",
      "7 |   |   |   |   |   |   |--- stalk-shape_t <= 0.50\n",
      "8 |   |   |   |   |   |   |   |--- class: 0\n",
      "7 |   |   |   |   |   |   |--- stalk-shape_t >  0.50\n",
      "8 |   |   |   |   |   |   |   |--- class: 1\n",
      "5 |   |   |   |   |--- odor_l >  0.50\n",
      "6 |   |   |   |   |   |--- class: 1\n",
      "4 |   |   |   |--- spore-print-color_u >  0.50\n",
      "5 |   |   |   |   |--- class: 1\n",
      "3 |   |   |--- stalk-surface-below-ring_y >  0.50\n",
      "4 |   |   |   |--- class: 1\n",
      "2 |   |--- stalk-root_c >  0.50\n",
      "3 |   |   |--- ring-number_o <= 0.50\n",
      "4 |   |   |   |--- class: 0\n",
      "3 |   |   |--- ring-number_o >  0.50\n",
      "4 |   |   |   |--- class: 1\n",
      "1 |--- odor_n >  0.50\n",
      "2 |   |--- spore-print-color_r <= 0.50\n",
      "3 |   |   |--- stalk-surface-below-ring_y <= 0.50\n",
      "4 |   |   |   |--- cap-surface_g <= 0.50\n",
      "5 |   |   |   |   |--- cap-shape_c <= 0.50\n",
      "6 |   |   |   |   |   |--- gill-size_n <= 0.50\n",
      "7 |   |   |   |   |   |   |--- class: 1\n",
      "6 |   |   |   |   |   |--- gill-size_n >  0.50\n",
      "7 |   |   |   |   |   |   |--- bruises_t <= 0.50\n",
      "8 |   |   |   |   |   |   |   |--- class: 1\n",
      "7 |   |   |   |   |   |   |--- bruises_t >  0.50\n",
      "8 |   |   |   |   |   |   |   |--- class: 0\n",
      "5 |   |   |   |   |--- cap-shape_c >  0.50\n",
      "6 |   |   |   |   |   |--- class: 0\n",
      "4 |   |   |   |--- cap-surface_g >  0.50\n",
      "5 |   |   |   |   |--- class: 0\n",
      "3 |   |   |--- stalk-surface-below-ring_y >  0.50\n",
      "4 |   |   |   |--- stalk-color-above-ring_n <= 0.50\n",
      "5 |   |   |   |   |--- class: 0\n",
      "4 |   |   |   |--- stalk-color-above-ring_n >  0.50\n",
      "5 |   |   |   |   |--- class: 1\n",
      "2 |   |--- spore-print-color_r >  0.50\n",
      "3 |   |   |--- class: 0\n"
     ]
    },
    {
     "data": {
      "text/plain": [
       "[['odor is not equal to n',\n",
       "  'stalk root is not equal to c',\n",
       "  'stalk surface below ring is not equal to y',\n",
       "  'spore print color is not equal to u',\n",
       "  'odor is not equal to l',\n",
       "  'gill spacing is not equal to w',\n",
       "  'Then poisonous'],\n",
       " ['odor is not equal to n',\n",
       "  'stalk root is not equal to c',\n",
       "  'stalk surface below ring is not equal to y',\n",
       "  'spore print color is not equal to u',\n",
       "  'odor is not equal to l',\n",
       "  'stalk shape is not equal to t',\n",
       "  'Then poisonous'],\n",
       " ['odor is not equal to n',\n",
       "  'stalk root is not equal to c',\n",
       "  'stalk surface below ring is not equal to y',\n",
       "  'spore print color is not equal to u',\n",
       "  'odor is not equal to l',\n",
       "  'stalk shape is not equal to t',\n",
       "  'Then edible'],\n",
       " ['odor is not equal to n',\n",
       "  'stalk root is not equal to c',\n",
       "  'stalk surface below ring is not equal to y',\n",
       "  'spore print color is not equal to u',\n",
       "  'Then edible'],\n",
       " ['odor is not equal to n',\n",
       "  'stalk root is not equal to c',\n",
       "  'stalk surface below ring is not equal to y',\n",
       "  'Then edible'],\n",
       " ['odor is not equal to n', 'stalk root is not equal to c', 'Then edible'],\n",
       " ['odor is not equal to n', 'ring number is not equal to o', 'Then poisonous'],\n",
       " ['odor is not equal to n', 'ring number is not equal to o', 'Then edible'],\n",
       " ['spore print color is not equal to r',\n",
       "  'stalk surface below ring is not equal to y',\n",
       "  'cap surface is not equal to g',\n",
       "  'cap shape is not equal to c',\n",
       "  'gill size is not equal to n',\n",
       "  'Then edible'],\n",
       " ['spore print color is not equal to r',\n",
       "  'stalk surface below ring is not equal to y',\n",
       "  'cap surface is not equal to g',\n",
       "  'cap shape is not equal to c',\n",
       "  'gill size is not equal to n',\n",
       "  'bruises is not equal to t',\n",
       "  'Then edible'],\n",
       " ['spore print color is not equal to r',\n",
       "  'stalk surface below ring is not equal to y',\n",
       "  'cap surface is not equal to g',\n",
       "  'cap shape is not equal to c',\n",
       "  'gill size is not equal to n',\n",
       "  'bruises is not equal to t',\n",
       "  'Then poisonous'],\n",
       " ['spore print color is not equal to r',\n",
       "  'stalk surface below ring is not equal to y',\n",
       "  'cap surface is not equal to g',\n",
       "  'cap shape is not equal to c',\n",
       "  'Then poisonous'],\n",
       " ['spore print color is not equal to r',\n",
       "  'stalk surface below ring is not equal to y',\n",
       "  'cap surface is not equal to g',\n",
       "  'Then poisonous'],\n",
       " ['spore print color is not equal to r',\n",
       "  'stalk surface below ring is not equal to y',\n",
       "  'stalk color above ring is not equal to n',\n",
       "  'Then poisonous'],\n",
       " ['spore print color is not equal to r',\n",
       "  'stalk surface below ring is not equal to y',\n",
       "  'stalk color above ring is not equal to n',\n",
       "  'Then edible']]"
      ]
     },
     "execution_count": 76,
     "metadata": {},
     "output_type": "execute_result"
    }
   ],
   "source": [
    "def parse_rules(text):\n",
    "    \n",
    "    node_list = text.strip().split(\"\\n\")\n",
    "    depth = [len(line.split(\"   \")) for line in lines]\n",
    "    \n",
    "    rule_list = list()\n",
    "    \n",
    "    past_depth = 0\n",
    "    present_rule = []\n",
    "    for i, l in zip(sizes, lines):\n",
    "        if i > past_size:\n",
    "            cleaned_condition = clean_condition(l, i)\n",
    "            present_rule.append(cleaned_condition)\n",
    "        else:\n",
    "            rule_list.append(present_rule)\n",
    "            present_rule = present_rule[:i-1]\n",
    "        \n",
    "        past_size = i\n",
    "    \n",
    "    return rule_list\n",
    "    \n",
    "parse_rules(tree_txt)"
   ]
  },
  {
   "cell_type": "code",
   "execution_count": 28,
   "id": "d6f11e58-d7d6-4667-97b5-58147f97726b",
   "metadata": {},
   "outputs": [
    {
     "name": "stdout",
     "output_type": "stream",
     "text": [
      "              precision    recall  f1-score   support\n",
      "\n",
      "           0       1.00      1.00      1.00      1294\n",
      "           1       1.00      1.00      1.00      1387\n",
      "\n",
      "    accuracy                           1.00      2681\n",
      "   macro avg       1.00      1.00      1.00      2681\n",
      "weighted avg       1.00      1.00      1.00      2681\n",
      "\n"
     ]
    }
   ],
   "source": [
    "y_pred = pipeline.predict(X_test)\n",
    "print(classification_report(y_test, y_pred))"
   ]
  }
 ],
 "metadata": {
  "kernelspec": {
   "display_name": "Python 3 (ipykernel)",
   "language": "python",
   "name": "python3"
  },
  "language_info": {
   "codemirror_mode": {
    "name": "ipython",
    "version": 3
   },
   "file_extension": ".py",
   "mimetype": "text/x-python",
   "name": "python",
   "nbconvert_exporter": "python",
   "pygments_lexer": "ipython3",
   "version": "3.9.6"
  }
 },
 "nbformat": 4,
 "nbformat_minor": 5
}
