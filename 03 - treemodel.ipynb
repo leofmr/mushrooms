{
 "cells": [
  {
   "cell_type": "code",
   "execution_count": 1,
   "id": "94df034a-068e-41e2-8a3d-c9acc7a47844",
   "metadata": {},
   "outputs": [],
   "source": [
    "import pandas as pd\n",
    "import matplotlib.pyplot as plt\n",
    "import math\n",
    "import pickle\n",
    "import tree_parser\n",
    "\n",
    "from sklearn.tree import DecisionTreeClassifier, export_graphviz, export_text\n",
    "from sklearn.preprocessing import OneHotEncoder\n",
    "from sklearn.impute import SimpleImputer\n",
    "from sklearn.pipeline import Pipeline\n",
    "\n",
    "from sklearn.metrics import classification_report"
   ]
  },
  {
   "cell_type": "code",
   "execution_count": 2,
   "id": "d26f534e-68e7-4ea8-8eef-2f56467da079",
   "metadata": {},
   "outputs": [],
   "source": [
    "with open(\"data/splited_data.pickle\", \"rb\") as file:\n",
    "    data = pickle.load(file)\n",
    "    X_train = data[\"X_train\"]\n",
    "    y_train = data[\"y_train\"]\n",
    "    X_test = data[\"X_test\"]\n",
    "    y_test = data[\"y_test\"]"
   ]
  },
  {
   "cell_type": "code",
   "execution_count": 3,
   "id": "1aac3666-b26c-4dd9-a39b-8c330aa54b6f",
   "metadata": {},
   "outputs": [
    {
     "data": {
      "text/plain": [
       "Pipeline(steps=[('imputation',\n",
       "                 SimpleImputer(missing_values='?', strategy='most_frequent')),\n",
       "                ('encoder', OneHotEncoder(drop='first')),\n",
       "                ('classifier', DecisionTreeClassifier(random_state=21))])"
      ]
     },
     "execution_count": 3,
     "metadata": {},
     "output_type": "execute_result"
    }
   ],
   "source": [
    "steps = [(\"imputation\", SimpleImputer(missing_values=\"?\", strategy=\"most_frequent\")),\n",
    "         (\"encoder\", OneHotEncoder(drop=\"first\")),\n",
    "         (\"classifier\", DecisionTreeClassifier(random_state=21))]\n",
    "\n",
    "pipeline = Pipeline(steps)\n",
    "pipeline.fit(X_train, y_train)"
   ]
  },
  {
   "cell_type": "code",
   "execution_count": 4,
   "id": "51204f9f-063c-47f0-a8a3-1732c462b477",
   "metadata": {},
   "outputs": [
    {
     "name": "stdout",
     "output_type": "stream",
     "text": [
      "|--- odor_n <= 0.50\n",
      "|   |--- stalk-root_c <= 0.50\n",
      "|   |   |--- stalk-surface-below-ring_y <= 0.50\n",
      "|   |   |   |--- spore-print-color_u <= 0.50\n",
      "|   |   |   |   |--- odor_l <= 0.50\n",
      "|   |   |   |   |   |--- gill-spacing_w <= 0.50\n",
      "|   |   |   |   |   |   |--- class: 0\n",
      "|   |   |   |   |   |--- gill-spacing_w >  0.50\n",
      "|   |   |   |   |   |   |--- stalk-shape_t <= 0.50\n",
      "|   |   |   |   |   |   |   |--- class: 0\n",
      "|   |   |   |   |   |   |--- stalk-shape_t >  0.50\n",
      "|   |   |   |   |   |   |   |--- class: 1\n",
      "|   |   |   |   |--- odor_l >  0.50\n",
      "|   |   |   |   |   |--- class: 1\n",
      "|   |   |   |--- spore-print-color_u >  0.50\n",
      "|   |   |   |   |--- class: 1\n",
      "|   |   |--- stalk-surface-below-ring_y >  0.50\n",
      "|   |   |   |--- class: 1\n",
      "|   |--- stalk-root_c >  0.50\n",
      "|   |   |--- ring-number_o <= 0.50\n",
      "|   |   |   |--- class: 0\n",
      "|   |   |--- ring-number_o >  0.50\n",
      "|   |   |   |--- class: 1\n",
      "|--- odor_n >  0.50\n",
      "|   |--- spore-print-color_r <= 0.50\n",
      "|   |   |--- stalk-surface-below-ring_y <= 0.50\n",
      "|   |   |   |--- cap-surface_g <= 0.50\n",
      "|   |   |   |   |--- cap-shape_c <= 0.50\n",
      "|   |   |   |   |   |--- gill-size_n <= 0.50\n",
      "|   |   |   |   |   |   |--- class: 1\n",
      "|   |   |   |   |   |--- gill-size_n >  0.50\n",
      "|   |   |   |   |   |   |--- bruises_t <= 0.50\n",
      "|   |   |   |   |   |   |   |--- class: 1\n",
      "|   |   |   |   |   |   |--- bruises_t >  0.50\n",
      "|   |   |   |   |   |   |   |--- class: 0\n",
      "|   |   |   |   |--- cap-shape_c >  0.50\n",
      "|   |   |   |   |   |--- class: 0\n",
      "|   |   |   |--- cap-surface_g >  0.50\n",
      "|   |   |   |   |--- class: 0\n",
      "|   |   |--- stalk-surface-below-ring_y >  0.50\n",
      "|   |   |   |--- stalk-color-above-ring_n <= 0.50\n",
      "|   |   |   |   |--- class: 0\n",
      "|   |   |   |--- stalk-color-above-ring_n >  0.50\n",
      "|   |   |   |   |--- class: 1\n",
      "|   |--- spore-print-color_r >  0.50\n",
      "|   |   |--- class: 0\n",
      "\n"
     ]
    }
   ],
   "source": [
    "feature_names = pipeline[1].get_feature_names_out(X_train.columns).tolist()\n",
    "print(export_text(pipeline[-1], feature_names=feature_names))"
   ]
  },
  {
   "cell_type": "code",
   "execution_count": 6,
   "id": "0240745e-9600-48ef-867e-367df455fb3c",
   "metadata": {},
   "outputs": [
    {
     "name": "stdout",
     "output_type": "stream",
     "text": [
      "If odor not equal to n and l, and stalk root not equal to c, and stalk surface below ring not equal to y, and spore print color not equal to u, and gill spacing not equal to w then 0\n",
      "####################\n",
      "If odor not equal to n and l, and stalk root not equal to c, and stalk surface below ring not equal to y, and spore print color not equal to u, and stalk shape not equal to t then 0\n",
      "####################\n",
      "If odor not equal to n and l, and stalk root not equal to c, and stalk surface below ring not equal to y, and spore print color not equal to u, and stalk shape not equal to t then 1\n",
      "####################\n",
      "If odor not equal to n, and stalk root not equal to c, and stalk surface below ring not equal to y, and spore print color not equal to u then 1\n",
      "####################\n",
      "If odor not equal to n, and stalk root not equal to c, and stalk surface below ring not equal to y then 1\n",
      "####################\n",
      "If odor not equal to n, and stalk root not equal to c then 1\n",
      "####################\n",
      "If odor not equal to n, and ring number not equal to o then 0\n",
      "####################\n",
      "If odor not equal to n, and ring number not equal to o then 1\n",
      "####################\n",
      "If spore print color not equal to r, and stalk surface below ring not equal to y, and cap surface not equal to g, and cap shape not equal to c, and gill size not equal to n then 1\n",
      "####################\n",
      "If spore print color not equal to r, and stalk surface below ring not equal to y, and cap surface not equal to g, and cap shape not equal to c, and gill size not equal to n, and bruises not equal to t then 1\n",
      "####################\n",
      "If spore print color not equal to r, and stalk surface below ring not equal to y, and cap surface not equal to g, and cap shape not equal to c, and gill size not equal to n, and bruises not equal to t then 0\n",
      "####################\n",
      "If spore print color not equal to r, and stalk surface below ring not equal to y, and cap surface not equal to g, and cap shape not equal to c then 0\n",
      "####################\n",
      "If spore print color not equal to r, and stalk surface below ring not equal to y, and cap surface not equal to g then 0\n",
      "####################\n",
      "If spore print color not equal to r, and stalk surface below ring not equal to y, and stalk color above ring not equal to n then 0\n",
      "####################\n",
      "If spore print color not equal to r, and stalk surface below ring not equal to y, and stalk color above ring not equal to n then 1\n",
      "####################\n"
     ]
    }
   ],
   "source": [
    "tree_txt = export_text(pipeline[-1], feature_names=feature_names)\n",
    "tree_nodes = tree_parser.parse_rules(tree_txt)\n",
    "for branch in tree_nodes:\n",
    "    conditions_dict, prediction = tree_parser.extract_dictionary_rule(branch)\n",
    "    branch_txt = tree_parser.gen_text(conditions_dict, prediction)\n",
    "    print(branch_txt)\n",
    "    print(\"#\"* 20)"
   ]
  },
  {
   "cell_type": "code",
   "execution_count": 7,
   "id": "d6f11e58-d7d6-4667-97b5-58147f97726b",
   "metadata": {},
   "outputs": [
    {
     "name": "stdout",
     "output_type": "stream",
     "text": [
      "              precision    recall  f1-score   support\n",
      "\n",
      "           0       1.00      1.00      1.00      1294\n",
      "           1       1.00      1.00      1.00      1387\n",
      "\n",
      "    accuracy                           1.00      2681\n",
      "   macro avg       1.00      1.00      1.00      2681\n",
      "weighted avg       1.00      1.00      1.00      2681\n",
      "\n"
     ]
    }
   ],
   "source": [
    "y_pred = pipeline.predict(X_test)\n",
    "print(classification_report(y_test, y_pred))"
   ]
  }
 ],
 "metadata": {
  "kernelspec": {
   "display_name": "Python 3 (ipykernel)",
   "language": "python",
   "name": "python3"
  },
  "language_info": {
   "codemirror_mode": {
    "name": "ipython",
    "version": 3
   },
   "file_extension": ".py",
   "mimetype": "text/x-python",
   "name": "python",
   "nbconvert_exporter": "python",
   "pygments_lexer": "ipython3",
   "version": "3.9.6"
  }
 },
 "nbformat": 4,
 "nbformat_minor": 5
}
